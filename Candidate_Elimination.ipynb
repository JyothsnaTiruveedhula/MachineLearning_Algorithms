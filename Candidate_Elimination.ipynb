{
 "cells": [
  {
   "cell_type": "code",
   "execution_count": 1,
   "id": "790cb213",
   "metadata": {},
   "outputs": [
    {
     "name": "stdout",
     "output_type": "stream",
     "text": [
      "\n",
      "Instances are:\n",
      " [['Many' 'Big' 'No' 'Expensive' 'Many']\n",
      " ['Some' 'Small' 'No' 'Affordable' 'One']\n",
      " ['Many' 'Medium' 'No' 'Expensive' 'Few']\n",
      " ['Many' 'Small' 'No' 'Affordable' 'Many']]\n",
      "\n",
      "Target Values are:  ['Yes' 'No' 'Yes' 'Yes']\n",
      "\n",
      "Initialization of specific_h and genearal_h\n",
      "\n",
      "Specific Boundary:  ['Many' 'Big' 'No' 'Expensive' 'Many']\n",
      "\n",
      "Generic Boundary:  [['?', '?', '?', '?', '?'], ['?', '?', '?', '?', '?'], ['?', '?', '?', '?', '?'], ['?', '?', '?', '?', '?'], ['?', '?', '?', '?', '?']]\n",
      "\n",
      "Instance 1 is  ['Many' 'Big' 'No' 'Expensive' 'Many']\n",
      "Instance is Positive \n",
      "Specific Bundary after  1 Instance is  ['Many' 'Big' 'No' 'Expensive' 'Many']\n",
      "Generic Boundary after  1 Instance is  [['?', '?', '?', '?', '?'], ['?', '?', '?', '?', '?'], ['?', '?', '?', '?', '?'], ['?', '?', '?', '?', '?'], ['?', '?', '?', '?', '?']]\n",
      "\n",
      "\n",
      "\n",
      "Instance 2 is  ['Some' 'Small' 'No' 'Affordable' 'One']\n",
      "Instance is Negative \n",
      "Specific Bundary after  2 Instance is  ['Many' 'Big' 'No' 'Expensive' 'Many']\n",
      "Generic Boundary after  2 Instance is  [['Many', '?', '?', '?', '?'], ['?', 'Big', '?', '?', '?'], ['?', '?', '?', '?', '?'], ['?', '?', '?', 'Expensive', '?'], ['?', '?', '?', '?', 'Many']]\n",
      "\n",
      "\n",
      "\n",
      "Instance 3 is  ['Many' 'Medium' 'No' 'Expensive' 'Few']\n",
      "Instance is Positive \n",
      "Specific Bundary after  3 Instance is  ['Many' '?' 'No' 'Expensive' '?']\n",
      "Generic Boundary after  3 Instance is  [['Many', '?', '?', '?', '?'], ['?', '?', '?', '?', '?'], ['?', '?', '?', '?', '?'], ['?', '?', '?', 'Expensive', '?'], ['?', '?', '?', '?', '?']]\n",
      "\n",
      "\n",
      "\n",
      "Instance 4 is  ['Many' 'Small' 'No' 'Affordable' 'Many']\n",
      "Instance is Positive \n",
      "Specific Bundary after  4 Instance is  ['Many' '?' 'No' '?' '?']\n",
      "Generic Boundary after  4 Instance is  [['Many', '?', '?', '?', '?'], ['?', '?', '?', '?', '?'], ['?', '?', '?', '?', '?'], ['?', '?', '?', '?', '?'], ['?', '?', '?', '?', '?']]\n",
      "\n",
      "\n"
     ]
    }
   ],
   "source": [
    "import numpy as np \n",
    "import pandas as pd\n",
    "\n",
    "data = pd.read_csv('sample.csv')\n",
    "concepts = np.array(data.iloc[:,0:-1])\n",
    "print(\"\\nInstances are:\\n\",concepts)\n",
    "target = np.array(data.iloc[:,-1])\n",
    "print(\"\\nTarget Values are: \",target)\n",
    "\n",
    "def learn(concepts, target): \n",
    "    specific_h = concepts[0].copy()\n",
    "    print(\"\\nInitialization of specific_h and genearal_h\")\n",
    "    print(\"\\nSpecific Boundary: \", specific_h)\n",
    "    general_h = [[\"?\" for i in range(len(specific_h))] for i in range(len(specific_h))]\n",
    "    print(\"\\nGeneric Boundary: \",general_h)  \n",
    "\n",
    "    for i, h in enumerate(concepts):\n",
    "        print(\"\\nInstance\", i+1 , \"is \", h)\n",
    "        if target[i] == \"Yes\":\n",
    "            print(\"Instance is Positive \")\n",
    "            for x in range(len(specific_h)): \n",
    "                if h[x]!= specific_h[x]:                    \n",
    "                    specific_h[x] ='?'                     \n",
    "                    general_h[x][x] ='?'\n",
    "                   \n",
    "        if target[i] == \"No\":            \n",
    "            print(\"Instance is Negative \")\n",
    "            for x in range(len(specific_h)): \n",
    "                if h[x]!= specific_h[x]:                    \n",
    "                    general_h[x][x] = specific_h[x]                \n",
    "                else:                    \n",
    "                    general_h[x][x] = '?'        \n",
    "        \n",
    "        print(\"Specific Bundary after \", i+1, \"Instance is \", specific_h)         \n",
    "        print(\"Generic Boundary after \", i+1, \"Instance is \", general_h)\n",
    "        print(\"\\n\")\n",
    "\n",
    "    indices = [i for i, val in enumerate(general_h) if val == ['?', '?', '?', '?', '?', '?']]    \n",
    "    for i in indices:   \n",
    "        general_h.remove(['?', '?', '?', '?', '?', '?']) \n",
    "    return specific_h, general_h \n",
    "\n",
    "s_final, g_final = learn(concepts, target)\n"
   ]
  },
  {
   "cell_type": "code",
   "execution_count": 2,
   "id": "6248416f",
   "metadata": {},
   "outputs": [
    {
     "name": "stdout",
     "output_type": "stream",
     "text": [
      "Final Specific_h: \n",
      "['Many' '?' 'No' '?' '?']\n",
      "Final General_h: \n",
      "[['Many', '?', '?', '?', '?'], ['?', '?', '?', '?', '?'], ['?', '?', '?', '?', '?'], ['?', '?', '?', '?', '?'], ['?', '?', '?', '?', '?']]\n"
     ]
    }
   ],
   "source": [
    "print(\"Final Specific_h: \", s_final, sep=\"\\n\")\n",
    "print(\"Final General_h: \", g_final, sep=\"\\n\")"
   ]
  },
  {
   "cell_type": "code",
   "execution_count": null,
   "id": "2324ad20",
   "metadata": {},
   "outputs": [],
   "source": []
  }
 ],
 "metadata": {
  "kernelspec": {
   "display_name": "Python 3 (ipykernel)",
   "language": "python",
   "name": "python3"
  },
  "language_info": {
   "codemirror_mode": {
    "name": "ipython",
    "version": 3
   },
   "file_extension": ".py",
   "mimetype": "text/x-python",
   "name": "python",
   "nbconvert_exporter": "python",
   "pygments_lexer": "ipython3",
   "version": "3.9.12"
  }
 },
 "nbformat": 4,
 "nbformat_minor": 5
}
